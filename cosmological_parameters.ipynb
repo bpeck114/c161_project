{
 "cells": [
  {
   "cell_type": "markdown",
   "id": "f574c4a8-0b9b-4454-93d6-dfdbc6c30c5a",
   "metadata": {},
   "source": [
    "# Explanation of Cosmological Parameters Calculation\n",
    "\n",
    "## Summary\n",
    "In this notebook, we will outline our procedure for calculating the cosmological parameters $\\Omega_{m,0}$, $\\Omega_{\\Lambda,0}$, and $H_0$ from observations of Type 1a supernovae. We will start with datasets describing supernovae redshifts and luminosity distances from several important papers on the topic. We will derive an equation relating redshift and luminosity distance in terms of the cosmological parameters. Then we will fit out data to this model in order to solve for the best fit values of $\\Omega_{m,0}$, $\\Omega_{\\Lambda,0}$, and $H_0$. We will conclude by comparing our parameters to the accepted results and discussing the implications of these parameters for the history and fate of our universe.\n",
    "\n",
    "## Preliminaries\n",
    "Let's start by importing the packages we will need, defining the relevant constants, and reading in the redshift and luminosity distance data."
   ]
  },
  {
   "cell_type": "code",
   "execution_count": 1,
   "id": "803d099f-17f1-49ab-a141-2346ce5ad4b4",
   "metadata": {},
   "outputs": [],
   "source": [
    "# packages\n",
    "import numpy as np\n",
    "import scipy.integrate as integrate\n",
    "import scipy.optimize as opt\n",
    "import matplotlib.pyplot as plt"
   ]
  },
  {
   "cell_type": "code",
   "execution_count": 2,
   "id": "bafc5540-8d46-4df4-8a82-71b7fd0a20f6",
   "metadata": {},
   "outputs": [],
   "source": [
    "# constant\n",
    "c = 2.99792458 * 1e5 # units: km/s"
   ]
  },
  {
   "cell_type": "code",
   "execution_count": 27,
   "id": "82ab464b-0f43-4b2e-b898-a0fceba7821c",
   "metadata": {},
   "outputs": [],
   "source": [
    "# replace this with import of actual data\n",
    "# this temporary data comes from Riess et al. (1998)\n",
    "redshift = np.array([0.43,0.62,0.57,0.30,0.38,0.43,0.44,0.50,0.97,0.48,0.30,0.23,0.16,0.24,0.17,0.83])\n",
    "dist_mod = np.array([41.74,42.98,42.76,41.38,41.63,42.55,41.95,42.40,44.39,42.45,40.74,40.33,39.08,40.68,39.95,43.67])\n",
    "dist_mod_err = np.array([0.28,0.17,0.19,0.24,0.20,0.25,0.17,0.17,0.30,0.17,0.60,0.46,0.40,0.43,0.24,0.35])\n",
    "lum_dist = 10**((dist_mod - 25)/5)\n",
    "lum_dist_err = lum_dist * np.log(10) * dist_mod_err/5"
   ]
  },
  {
   "cell_type": "markdown",
   "id": "66228b04-949e-4ac2-a368-24a3c109da74",
   "metadata": {},
   "source": [
    "## Model\n",
    "In general, a light source's flux, luminosity, and distance are related by\n",
    "$$F=\\frac{L}{4\\pi r^2}$$\n",
    "\n",
    "When doing cosmology, we must make a few modifications to this simple equation to account for the expansion and (possible) curvature of the universe. First, since the universe may not be flat, the area over which the source's light spreads out is $A=4\\pi S_k(r)^2$ where\n",
    "$$S_k(r) = \\begin{cases}\n",
    "    R_0\\sin{\\left(\\frac{r}{R_0}\\right)}, & \\kappa = +1\\\\\n",
    "    r, & \\kappa = 0\\\\\n",
    "    R_0\\sinh{\\left(\\frac{r}{R_0}\\right)}, & \\kappa = -1\\\\\n",
    "\\end{cases}$$\n",
    "\n",
    "and $R_0$ is the universe's radius of curvature. As expected, this expression simplifies to $A=4\\pi r^2$ in the case of a flat universe.\n",
    "\n",
    "Next, because the universe is expanding, the wavelength at which we observe a photon is longer than the wavelength at which it was emitted. In particular, a photon emitted with wavelength $\\lambda_e$ and energy $E_e = \\frac{hc}{\\lambda_e}$ will have wavelength $\\lambda_o = \\frac{\\lambda_e}{a(t_e)}$ and energy \n",
    "$$E_o = \\frac{hc}{\\lambda_o} = a(t_e) \\frac{hc}{\\lambda_e} = a(t_e)E_e = \\frac{1}{1+z_e}E_e$$\n",
    "\n",
    "when we observe it today. We can account for this by adding a factor of $\\frac{1}{1+z_e}$ to the expression for the observed flux; that is,\n",
    "$$F=\\frac{L}{4\\pi S_k(r)^2}\\frac{1}{1+z_e}$$\n",
    "\n",
    "We are not quite done yet, because we still need to incorporate the effect of cosmological time dilation. If two photons are emitted a time $\\Delta t_e$ apart, then the time interval between when we observe the two photons is\n",
    "$$\\Delta t_o = \\frac{a(t_o)}{a(t_e)}\\Delta t_e = \\frac{\\Delta t_e}{a(t_e)} = (1+z_e)\\Delta t_e$$\n",
    "\n",
    "This means the observed flux is a factor of $\\frac{1}{1+z_e}$ smaller than we previously calculated, seeing as the time interval between the arrival of successive photons is larger. Hence our final expression for the relationship between flux, luminosity, and distance (which now also depends on redshift) is\n",
    "$$F = \\frac{L}{4\\pi S_k(r)^2}\\frac{1}{(1+z_e)^2}$$\n",
    "\n",
    "This expression can be simplified by defining the $\\textbf{luminosity distance}$ $d_L = S_k(r)(1+z_e)$ such that $F = \\frac{L}{4\\pi d_L^2}$. This relation almost gives us the desired expression relating $d_L$ and $z$, except that we need to know the comoving radial coordinate $r$. From the Friedmann-Robertson-Walker (FRW) metric for light moving radially inward, we can see that\n",
    "$$ds^2 = 0 = -c^2dt^2 + a(t)^2dr^2$$\n",
    "$$ dr^2 = c^2\\frac{dt^2}{a(t)^2}$$\n",
    "$$ dr = -c\\frac{dt}{a(t)}$$\n",
    "$$r = -\\int_r^0 dr' = c\\int_{t_e}^{t_0}\\frac{dt}{a(t)} = c\\int_{t_e}^{t_0}\\frac{dt}{da}\\frac{da}{a} = c\\int_{a(t_e)}^{1}\\frac{da}{\\dot{a}a} = c\\int_{a(t_e)}^{1}\\frac{da}{a^2}\\frac{a}{\\dot{a}} = c\\int_{a(t_e)}^{1}\\frac{da}{a^2}\\frac{1}{H(t)}$$\n",
    "\n",
    "At this point, we can use the Friedmann equation for a matter- and dark energy-dominated universe to replace the Hubble parameter:\n",
    "$$H(t)^2 = \\frac{\\dot{a}^2}{a^2} = H_0^2 \\left(\\frac{\\Omega_{m,0}}{a^3} + \\Omega_{\\Lambda,0}+\\frac{1-\\Omega_0}{a^2}\\right)$$\n",
    "$$r=c\\int_{a(t_e)}^{1}\\frac{da}{a^2}\\left[H_0^2 \\left(\\frac{\\Omega_{m,0}}{a^3} + \\Omega_{\\Lambda,0}+\\frac{1-\\Omega_0}{a^2}\\right)\\right]^{-\\frac{1}{2}}$$\n",
    "\n",
    "We now need to convert the integration over the scale factor into an integration over the redshift. This can be accomplished using the relation $a = \\frac{1}{1+z}$ and $da = -\\frac{dz}{(1+z)^2}$.\n",
    "$$r=-c\\int_{z_e}^{0}\\frac{dz}{(1+z)^2}(1+z)^2\\left[H_0^2 \\left({\\Omega_{m,0}}(1+z)^3 + \\Omega_{\\Lambda,0}+\\left(1-\\Omega_0\\right)(1+z)^2\\right)\\right]^{-\\frac{1}{2}}=cH_0^{-1}\\int_0^{z_e}\\left[{\\Omega_{m,0}}(1+z)^3 + \\Omega_{\\Lambda,0}+\\left(1-\\Omega_0\\right)(1+z)^2\\right]^{-\\frac{1}{2}}dz$$\n",
    "\n",
    "In a matter- and dark energy-dominated universe, $\\Omega_0 = \\Omega_{m,0} + \\Omega_{\\Lambda,0}$. We can use this to simplify further:\n",
    "\\begin{aligned}\n",
    "r&=cH_0^{-1}\\int_0^{z_e}\\left[{\\Omega_{m,0}}(1+z)^3 + \\Omega_{\\Lambda,0}+\\left(1-\\Omega_{m,0}-\\Omega_{\\Lambda,0}\\right)(1+z)^2\\right]^{-\\frac{1}{2}}dz\\\\\n",
    "&=cH_0^{-1}\\int_0^{z_e}\\left[(1+z)^2 \\left(\\Omega_{m,0} + \\Omega_{m,0}z- \\Omega_{m,0}\\right) + \\Omega_{\\Lambda,0}+(1+z)^2 - \\Omega_{\\Lambda,0}(1+z)^2 \\right]^{-\\frac{1}{2}}dz\\\\\n",
    "&=cH_0^{-1}\\int_0^{z_e}\\left[(1+z)^2 \\left( 1+\\Omega_{m,0}z\\right) + \\Omega_{\\Lambda,0}\\left(1-1-2z-z^2\\right) \\right]^{-\\frac{1}{2}}dz\\\\\n",
    "&=cH_0^{-1}\\int_0^{z_e}\\left[(1+z)^2 \\left( 1+\\Omega_{m,0}z\\right) -z(2+z) \\Omega_{\\Lambda,0} \\right]^{-\\frac{1}{2}}dz\n",
    "\\end{aligned}\n",
    "\n",
    "We can now insert this expression into our equation for the luminosity distance.\n",
    "$$d_L = S_k(r)(1+z_e) = (1+z_e)S_k\\left(cH_0^{-1}\\int_0^{z_e}\\left[(1+z)^2 \\left( 1+\\Omega_{m,0}z\\right) -z(2+z) \\Omega_{\\Lambda,0} \\right]^{-\\frac{1}{2}}dz\\right)$$\n",
    "\n",
    "To evaluate the $S_k(r)$ function, we will need to derive an expression for the radius of curvature $R_0$. In Problem Set 6, we derived that $R_0$ satisfies the equation\n",
    "$$\\frac{\\kappa}{R_0^2} = \\frac{H_0^2}{c^2}(\\Omega_0-1)$$\n",
    "$$R_0^2 = \\frac{\\kappa c^2}{H_0^2}\\frac{1}{{\\Omega_0 - 1}}$$\n",
    "\n",
    "Notice that this expression for $R_0$ is always nonnegative because $\\Omega_0 > 1$ when $\\kappa = +1$ and $\\Omega_0 < 1$ when $\\kappa = -1$. We can use this to rewrite the function $S_k(r)$ in the following form.\n",
    "$$S_k(r) = \\begin{cases}\n",
    "    \\frac{c}{H_0}\\frac{1}{\\sqrt{\\Omega_0 -1}}\\sin{\\left(\\frac{H_0}{c}\\sqrt{\\Omega_0 -1}r\\right)}, & \\kappa = +1\\\\\n",
    "    r, & \\kappa = 0\\\\\n",
    "    \\frac{c}{H_0}\\frac{1}{\\sqrt{1-\\Omega_0}}\\sinh{\\left(\\frac{H_0}{c}\\sqrt{1-\\Omega_0}r\\right)}, & \\kappa = -1\\\\\n",
    "\\end{cases}$$\n",
    "\n",
    "Let's now define $\\Omega_k = 1-\\Omega_0$ and $\\text{sinn}(x) = \\begin{cases} \\sin{(x)}, & \\kappa = +1\\\\ x, & \\kappa = 0\\\\ \\sinh{(x)}, & \\kappa = -1\\\\\\end{cases}$. Then our expression for $S_k(r)$ can be further simplified to\n",
    "\\begin{aligned}\n",
    "S_k(r) &= \\begin{cases}\n",
    "    \\frac{c}{H_0}\\vert\\Omega_k\\vert^{-\\frac{1}{2}}\\sin{\\left(\\frac{H_0}{c}\\vert\\Omega_k\\vert^{\\frac{1}{2}}r\\right)}, & \\kappa = +1\\\\\n",
    "    r, & \\kappa = 0\\\\\n",
    "    \\frac{c}{H_0}\\vert\\Omega_k\\vert^{-\\frac{1}{2}}\\sinh{\\left(\\frac{H_0}{c}\\vert\\Omega_k\\vert^{\\frac{1}{2}}r\\right)}, & \\kappa = -1\\\\\n",
    "\\end{cases}\\\\\n",
    "&= \\frac{c}{H_0}\\vert\\Omega_k\\vert^{-\\frac{1}{2}}\\text{sinn}{\\left(\\frac{H_0}{c}\\vert\\Omega_k\\vert^{\\frac{1}{2}}r\\right)}\n",
    "\\end{aligned}\n",
    "\n",
    "Inserting this expression into the equation for the luminosity distance, we obtain\n",
    "\\begin{aligned}\n",
    "d_L &= (1+z_e)\\frac{c}{H_0}\\vert\\Omega_k\\vert^{-\\frac{1}{2}}\\text{sinn}\\left(\\frac{H_0}{c}\\vert\\Omega_k\\vert^{\\frac{1}{2}}cH_0^{-1}\\int_0^{z_e}\\left[(1+z)^2 \\left( 1+\\Omega_{m,0}z\\right) -z(2+z) \\Omega_{\\Lambda,0} \\right]^{-\\frac{1}{2}}dz\\right)\\\\\n",
    "&=cH_0^{-1}(1+z_e)\\vert\\Omega_k\\vert^{-\\frac{1}{2}}\\text{sinn}\\left(\\vert\\Omega_k\\vert^{\\frac{1}{2}}\\int_0^{z_e}\\left[(1+z)^2 \\left( 1+\\Omega_{m,0}z\\right) -z(2+z) \\Omega_{\\Lambda,0} \\right]^{-\\frac{1}{2}}dz\\right)\n",
    "\\end{aligned}\n",
    "\n",
    "This last line is exactly Equation (2) from Riess et al. (1998), so we have just derived the equation used to fit cosmological parameters in one of the original papers on the accelerating universe! Let's now write a Python function to compute the expression on the right side of this equation."
   ]
  },
  {
   "cell_type": "code",
   "execution_count": 4,
   "id": "d3911d9c-0716-404b-8267-c820e03a0579",
   "metadata": {},
   "outputs": [],
   "source": [
    "def D_L(z, omega_m, omega_lambda, H_0):\n",
    "    omega_k = 1-omega_m-omega_lambda\n",
    "    if (omega_k == 0): # handle this case separately to avoid division by zero errors\n",
    "        def integrand(x):\n",
    "            return 1/np.sqrt((1+x)**2*(1+omega_m*x) - x*(2+x)*omega_lambda)\n",
    "        integral = integrate.quad(integrand,0,z)[0]\n",
    "        r = c*integral/H_0\n",
    "        return (1+z)*r\n",
    "        \n",
    "    prefactor = (c/H_0) * (1+z) * (1/np.sqrt(np.abs(omega_k)))\n",
    "    def integrand(x):\n",
    "        return 1/np.sqrt((1+x)**2 * (1+omega_m*x) - x * (2+x) * omega_lambda)\n",
    "    integral = integrate.quad(integrand,0,z)[0]\n",
    "    arg = np.sqrt(np.abs(omega_k)) * integral\n",
    "    sinn = np.sin(arg) if omega_k <= 0 else np.sinh(arg)\n",
    "    return prefactor * sinn"
   ]
  },
  {
   "cell_type": "markdown",
   "id": "c7fb414f-1702-4a61-9255-147a1e15441b",
   "metadata": {},
   "source": [
    "## Fitting Model to Data\n",
    "To solve for the cosmological parameters, we will fit our luminosity distance and redshift data to the function ``D_L()`` using SciPy's curve_fit function."
   ]
  },
  {
   "cell_type": "code",
   "execution_count": 5,
   "id": "bdd12ff6-3a8d-4cc3-9fb1-f8d913bf7cf1",
   "metadata": {},
   "outputs": [],
   "source": [
    "def D_L_helper(redshifts, omega_m, omega_lambda, H_0):\n",
    "    return [D_L(z,omega_m,omega_lambda,H_0) for z in redshifts]"
   ]
  },
  {
   "cell_type": "code",
   "execution_count": 28,
   "id": "36aa2c3e-9c65-438a-a2d3-04ae736bb7aa",
   "metadata": {},
   "outputs": [],
   "source": [
    "bnds = ((0,0,60),(2,2,80))\n",
    "popt, pcov = opt.curve_fit(D_L_helper, redshift, lum_dist, p0=[0.3,0.7,70], bounds = bnds, sigma = lum_dist_err)\n",
    "omega_m, omega_lambda, H_0 = popt\n",
    "omega_m_err, omega_lambda_err, H_0_err = np.sqrt(np.diag(pcov))"
   ]
  },
  {
   "cell_type": "code",
   "execution_count": 29,
   "id": "310289e6-4482-43ab-a29e-bd47470ad471",
   "metadata": {},
   "outputs": [
    {
     "name": "stdout",
     "output_type": "stream",
     "text": [
      "Matter density:  1.807622328966888e-14  ±  1.1351998247541395\n",
      "Dark energy density:  0.3325113241747379  ±  2.2943951118737864\n",
      "Hubble constant:  64.70718286496064  ±  11.540889391786827\n"
     ]
    }
   ],
   "source": [
    "print(\"Matter density: \", omega_m, \" ± \", omega_m_err)\n",
    "print(\"Dark energy density: \", omega_lambda, \" ± \", omega_lambda_err)\n",
    "print(\"Hubble constant: \",H_0, \" ± \", H_0_err)"
   ]
  },
  {
   "cell_type": "code",
   "execution_count": 37,
   "id": "2623bcb5-485b-45b3-8ce5-ac9273a98551",
   "metadata": {},
   "outputs": [
    {
     "data": {
      "image/png": "[encoded data removed]",
      "text/plain": [
       "<Figure size 640x480 with 1 Axes>"
      ]
     },
     "metadata": {},
     "output_type": "display_data"
    }
   ],
   "source": [
    "zz = np.linspace(np.min(redshift),np.max(redshift),1000)\n",
    "plt.errorbar(np.log(redshift),lum_dist,yerr=lum_dist_err,fmt='.')\n",
    "plt.plot(np.log(zz),D_L_helper(zz, 0.3, 0.7, H_0))\n",
    "plt.xlabel(\"$\\log(z)$\")\n",
    "plt.ylabel(\"$D_L$ (Mpc)\");"
   ]
  },
  {
   "cell_type": "markdown",
   "id": "6f123511-8f6c-41a0-b38a-f7536a37e6d7",
   "metadata": {},
   "source": [
    "## References\n",
    "Ryden, B. Introduction to Cosmology. Addison Wesley, 2003.\n",
    "\n",
    "Riess, A. G., et al. 1998, Astron. J., 116, 1009."
   ]
  }
 ],
 "metadata": {
  "kernelspec": {
   "display_name": "Python 3 (ipykernel)",
   "language": "python",
   "name": "python3"
  },
  "language_info": {
   "codemirror_mode": {
    "name": "ipython",
    "version": 3
   },
   "file_extension": ".py",
   "mimetype": "text/x-python",
   "name": "python",
   "nbconvert_exporter": "python",
   "pygments_lexer": "ipython3",
   "version": "3.9.15"
  }
 },
 "nbformat": 4,
 "nbformat_minor": 5
}
