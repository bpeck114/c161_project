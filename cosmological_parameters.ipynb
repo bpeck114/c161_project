{
 "cells": [
  {
   "cell_type": "markdown",
   "id": "f574c4a8-0b9b-4454-93d6-dfdbc6c30c5a",
   "metadata": {},
   "source": [
    "# Explanation of Cosmological Parameters Calculation\n",
    "\n",
    "## Summary\n",
    "In this notebook, we will outline our procedure for calculating the cosmological parameters $\\Omega_{m,0}$, $\\Omega_{\\Lambda,0}$, and $H_0$ from observations of Type 1a supernovae. We will start with datasets describing supernovae redshifts and luminosity distances from several important papers on the topic. We will fit this data to a model relating redshifts, luminosity distances, and cosmological parameters in order to solve for the best fit values of $\\Omega_{m,0}$, $\\Omega_{\\Lambda,0}$, and $H_0$. We will conclude by comparing our parameters to the accepted results and discussing the implications of these parameters for the history and fate of our universe.\n",
    "\n",
    "## Preliminaries\n",
    "Let's start by importing the packages we will need, defining the relevant constants, and reading in the redshift and luminosity distance data."
   ]
  },
  {
   "cell_type": "code",
   "execution_count": 1,
   "id": "803d099f-17f1-49ab-a141-2346ce5ad4b4",
   "metadata": {},
   "outputs": [],
   "source": [
    "# packages\n",
    "import numpy as np\n",
    "import scipy.integrate as integrate\n",
    "import scipy.optimize as opt\n",
    "import matplotlib.pyplot as plt"
   ]
  },
  {
   "cell_type": "code",
   "execution_count": 2,
   "id": "bafc5540-8d46-4df4-8a82-71b7fd0a20f6",
   "metadata": {},
   "outputs": [],
   "source": [
    "# constant\n",
    "c = 2.99792458 * 1e8"
   ]
  },
  {
   "cell_type": "code",
   "execution_count": 3,
   "id": "82ab464b-0f43-4b2e-b898-a0fceba7821c",
   "metadata": {},
   "outputs": [],
   "source": [
    "# replace this with import of actual data\n",
    "# this temporary data comes from https://imagine.gsfc.nasa.gov/educators/programs/cosmictimes/downloads/lessons/2006/Measure_DE_Data_File.pdf\n",
    "redshift = np.array([0.008,0.012,0.014,0.016,0.028,0.045,0.050,0.052,0.064,0.080,0.101,0.124,0.300,0.380,0.430,0.430,0.440,0.480,0.500,0.570,0.620,0.970])\n",
    "lum_dist = np.array([32.79,33.73,34.13,34.00,35.82,36.87,36.67,37.31,37.63,37.96,38.33,39.10,40.99,42.21,42.03,42.34,42.26,42.49,42.70,42.83,43.01,44.30])"
   ]
  },
  {
   "cell_type": "markdown",
   "id": "66228b04-949e-4ac2-a368-24a3c109da74",
   "metadata": {},
   "source": [
    "## Model\n",
    "Starting from the luminosity distances and redshifts for a set of Type 1a supernovae, we would like to derive estimates for the cosmological parameters $\\Omega_{m,0}$, $\\Omega_{\\Lambda,0}$, and $H_0$. The equation used in Riess et al. (1998) to fit the cosmological parameters is\n",
    "$$D_L = cH_0^{-1} (1+z) \\vert \\Omega_k\\vert^{-\\frac{1}{2}} \\text{sinn}\\left(\\vert\\Omega_k\\vert^{\\frac{1}{2}}\\int_0^z \\left[(1+z)^2(1+\\Omega_Mz)-z(2+z)\\Omega_{\\Lambda}\\right]^{-\\frac{1}{2}}dz'\\right)$$\n",
    "\n",
    "where we have defined $\\Omega_k = 1-\\Omega_m-\\Omega_{\\Lambda}$ and $\\text{sinn}(x) = \\begin{cases} \\sin{(x)}, & x\\leq 0\\\\ \\sinh{(x)}, & x \\geq 0\\\\\\end{cases}$. Let's write a Python function to compute the expression on the right side of this equation."
   ]
  },
  {
   "cell_type": "code",
   "execution_count": 4,
   "id": "d3911d9c-0716-404b-8267-c820e03a0579",
   "metadata": {},
   "outputs": [],
   "source": [
    "def D_L(z, omega_m, omega_lambda, H_0):\n",
    "    omega_k = 1-omega_m-omega_lambda\n",
    "    prefactor = (c/H_0) * (1+z) * (1/np.sqrt(np.abs(omega_k)))\n",
    "    def integrand(x):\n",
    "        return 1/np.sqrt((1+x)**2 * (1+omega_m*x) - x * (2+x) * omega_lambda)\n",
    "    integral = integrate.quad(integrand,0,z)[0]\n",
    "    arg = np.sqrt(np.abs(omega_k)) * integral\n",
    "    sinn = np.sin(arg) if omega_k <= 0 else np.sinh(arg)\n",
    "    return prefactor * sinn"
   ]
  },
  {
   "cell_type": "markdown",
   "id": "c7fb414f-1702-4a61-9255-147a1e15441b",
   "metadata": {},
   "source": [
    "## Fitting Model to Data\n",
    "To solve for the cosmological parameters, we will fit our luminosity distance and redshift data to the function ``D_L()`` using SciPy's curve_fit function."
   ]
  },
  {
   "cell_type": "code",
   "execution_count": 5,
   "id": "bdd12ff6-3a8d-4cc3-9fb1-f8d913bf7cf1",
   "metadata": {},
   "outputs": [],
   "source": [
    "def D_L_helper(redshifts, omega_m, omega_lambda, H_0):\n",
    "    return [D_L(z,omega_m,omega_lambda,H_0) for z in redshifts]"
   ]
  },
  {
   "cell_type": "code",
   "execution_count": 6,
   "id": "36aa2c3e-9c65-438a-a2d3-04ae736bb7aa",
   "metadata": {},
   "outputs": [],
   "source": [
    "popt, pcov = opt.curve_fit(D_L_helper, redshift, lum_dist)\n",
    "omega_m, omega_lambda, H_0 = popt"
   ]
  },
  {
   "cell_type": "code",
   "execution_count": 9,
   "id": "b50756bf-86b1-44bd-b688-78d9705cc7e3",
   "metadata": {},
   "outputs": [
    {
     "name": "stdout",
     "output_type": "stream",
     "text": [
      "[1.08500042e+07 3.92867460e+06 1.89258164e+03]\n"
     ]
    }
   ],
   "source": [
    "print(popt)"
   ]
  },
  {
   "cell_type": "code",
   "execution_count": 22,
   "id": "2623bcb5-485b-45b3-8ce5-ac9273a98551",
   "metadata": {},
   "outputs": [
    {
     "data": {
      "image/png": "[encoded data removed]",
      "text/plain": [
       "<Figure size 640x480 with 1 Axes>"
      ]
     },
     "metadata": {},
     "output_type": "display_data"
    }
   ],
   "source": [
    "plt.plot(np.log(redshift),lum_dist,'.')\n",
    "plt.plot(np.log(redshift),D_L_helper(redshift,omega_m,omega_lambda,H_0))\n",
    "plt.xlabel(\"$log(z)$\")\n",
    "plt.ylabel(\"$D_L$\");"
   ]
  },
  {
   "cell_type": "code",
   "execution_count": null,
   "id": "db0365d2-2beb-40ed-bd5e-82867a15b802",
   "metadata": {},
   "outputs": [],
   "source": []
  }
 ],
 "metadata": {
  "kernelspec": {
   "display_name": "Python 3 (ipykernel)",
   "language": "python",
   "name": "python3"
  },
  "language_info": {
   "codemirror_mode": {
    "name": "ipython",
    "version": 3
   },
   "file_extension": ".py",
   "mimetype": "text/x-python",
   "name": "python",
   "nbconvert_exporter": "python",
   "pygments_lexer": "ipython3",
   "version": "3.9.15"
  }
 },
 "nbformat": 4,
 "nbformat_minor": 5
}
