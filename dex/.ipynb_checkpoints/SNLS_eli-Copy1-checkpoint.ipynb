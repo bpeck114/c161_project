{
 "cells": [
  {
   "cell_type": "markdown",
   "id": "f574c4a8-0b9b-4454-93d6-dfdbc6c30c5a",
   "metadata": {},
   "source": [
    "# Cosmological Parameters Calculation\n",
    "### Collaborators: Eli Gendreau-Distler, Brianna Peck, and Dex Bhadra\n",
    "\n",
    "## Summary\n",
    "In this notebook, we will outline our procedure for calculating the cosmological parameters $\\Omega_{m,0}$, $\\Omega_{\\Lambda,0}$, and $H_0$ from observations of Type 1a supernovae. We will start with datasets describing supernovae redshifts and luminosity distances from several important studies in the field. Using equations from the course, we will derive a relationship between redshift and luminosity distance in terms of the cosmological parameters. Then we will fit our data to this model in order to solve for the best fit values of $\\Omega_{m,0}$, $\\Omega_{\\Lambda,0}$, and $H_0$. We will separately determine the best fit values of these parameters by sampling the phase space and calculating the probability for the true values to lie within each small region of phase space. After calculating $\\Omega_{m,0}$, $\\Omega_{\\Lambda,0}$, and $H_0$, we will integrate the Friedmann equation to illustrate the evolution of the universe under the predicted model. Lastly, we will conclude by comparing our parameters to the accepted results and discussing the implications of these results for the history and fate of our universe.\n",
    "\n",
    "## Preliminaries\n",
    "Let's start by importing the packages we will need, defining the relevant constants, and reading in the redshift and luminosity distance data."
   ]
  },
  {
   "cell_type": "code",
   "execution_count": 1,
   "id": "803d099f-17f1-49ab-a141-2346ce5ad4b4",
   "metadata": {},
   "outputs": [],
   "source": [
    "# packages\n",
    "import numpy as np\n",
    "import scipy.integrate as integrate\n",
    "import scipy.optimize as opt\n",
    "import matplotlib.pyplot as plt\n",
    "import csv\n",
    "from scipy.stats import chi2 as c2"
   ]
  },
  {
   "cell_type": "code",
   "execution_count": 14,
   "id": "237a8123-d075-4216-bfab-3bc4cd6e09ec",
   "metadata": {},
   "outputs": [],
   "source": [
    "plt.rcParams.update({'font.size': 25})"
   ]
  },
  {
   "cell_type": "code",
   "execution_count": 2,
   "id": "bafc5540-8d46-4df4-8a82-71b7fd0a20f6",
   "metadata": {},
   "outputs": [],
   "source": [
    "# constant\n",
    "c = 2.99792458 * 1e5 # units: km/s"
   ]
  },
  {
   "cell_type": "code",
   "execution_count": 3,
   "id": "1d1a581f",
   "metadata": {},
   "outputs": [],
   "source": [
    "data_snls = np.genfromtxt('snls_3rdyear_lcparams.txt')\n",
    "redshift = data_snls.T[1]  # CMB-frame redshift\n",
    "alpha = 1.4 # fit params\n",
    "beta = 3.2 # fit params\n",
    "b_band_lum = data_snls.T[4]\n",
    "color_measure = data_snls.T[8]\n",
    "stretch_factor = data_snls.T[6]\n",
    "stretch_factor_error = data_snls.T[7]\n",
    "b_band_lum_err = data_snls.T[5]\n",
    "redshift = data_snls.T[1]\n",
    "color_error = data_snls.T[9]\n",
    "dist_mod = b_band_lum + alpha * (stretch_factor - 1) - beta * color_measure + 19\n",
    "dist_mod_err = np.sqrt(b_band_lum_err**2 + (alpha*stretch_factor_error)**2 + (beta*color_error)**2)\n",
    "\n",
    "lum_dist = 10**((dist_mod - 25)/5)\n",
    "lum_dist_err = lum_dist * np.log(10) * dist_mod_err/5"
   ]
  },
  {
   "cell_type": "markdown",
   "id": "66228b04-949e-4ac2-a368-24a3c109da74",
   "metadata": {},
   "source": [
    "## Model\n",
    "In general, a light source's flux, luminosity, and distance are related by\n",
    "$$F=\\frac{L}{4\\pi r^2}$$\n",
    "\n",
    "When doing cosmology, we must make a few modifications to this simple equation to account for the expansion and (possible) curvature of the universe. First, since the universe may not be flat, the area over which the source's light spreads out is $A=4\\pi S_k(r)^2$ where\n",
    "$$S_k(r) = \\begin{cases}\n",
    "    R_0\\sin{\\left(\\frac{r}{R_0}\\right)}, & \\kappa = +1\\\\\n",
    "    r, & \\kappa = 0\\\\\n",
    "    R_0\\sinh{\\left(\\frac{r}{R_0}\\right)}, & \\kappa = -1\\\\\n",
    "\\end{cases}$$\n",
    "\n",
    "and $R_0$ is the universe's radius of curvature. As expected, this expression simplifies to $A=4\\pi r^2$ in the case of a flat universe.\n",
    "\n",
    "Next, because the universe is expanding, the wavelength at which we observe a photon is longer than the wavelength at which it was emitted. In particular, a photon emitted with wavelength $\\lambda_e$ and energy $E_e = \\frac{hc}{\\lambda_e}$ will have wavelength $\\lambda_o = \\frac{\\lambda_e}{a(t_e)}$ and energy \n",
    "$$E_o = \\frac{hc}{\\lambda_o} = a(t_e) \\frac{hc}{\\lambda_e} = a(t_e)E_e = \\frac{1}{1+z_e}E_e$$\n",
    "\n",
    "when we observe it today. We can account for this by adding a factor of $\\frac{1}{1+z_e}$ to the expression for the observed flux; that is,\n",
    "$$F=\\frac{L}{4\\pi S_k(r)^2}\\frac{1}{1+z_e}$$\n",
    "\n",
    "We are not quite done yet, because we still need to incorporate the effect of cosmological time dilation. If two photons are emitted a time $\\Delta t_e$ apart, then the time interval between when we observe the two photons is\n",
    "$$\\Delta t_o = \\frac{a(t_o)}{a(t_e)}\\Delta t_e = \\frac{\\Delta t_e}{a(t_e)} = (1+z_e)\\Delta t_e$$\n",
    "\n",
    "This means the observed flux is a factor of $\\frac{1}{1+z_e}$ smaller than we previously calculated, seeing as the time interval between the arrival of successive photons is larger. Hence our final expression for the relationship between flux, luminosity, and distance (which now also depends on redshift) is\n",
    "$$F = \\frac{L}{4\\pi S_k(r)^2}\\frac{1}{(1+z_e)^2}$$\n",
    "\n",
    "This expression can be simplified by defining the luminosity distance $d_L = S_k(r)(1+z_e)$ such that $F = \\frac{L}{4\\pi d_L^2}$. This relation almost gives us the desired expression relating $d_L$ and $z$, except that we still need to determine the comoving radial coordinate $r$. From the Friedmann-Robertson-Walker (FRW) metric for light moving radially inward, we can see that\n",
    "$$ds^2 = 0 = -c^2dt^2 + a(t)^2dr^2$$\n",
    "$$ dr^2 = c^2\\frac{dt^2}{a(t)^2}$$\n",
    "$$ dr = -c\\frac{dt}{a(t)}$$\n",
    "$$r = -\\int_r^0 dr' = c\\int_{t_e}^{t_0}\\frac{dt}{a(t)} = c\\int_{t_e}^{t_0}\\frac{dt}{da}\\frac{da}{a} = c\\int_{a(t_e)}^{1}\\frac{da}{\\dot{a}a} = c\\int_{a(t_e)}^{1}\\frac{da}{a^2}\\frac{a}{\\dot{a}} = c\\int_{a(t_e)}^{1}\\frac{da}{a^2}\\frac{1}{H(t)}$$\n",
    "\n",
    "At this point, we can use the Friedmann equation for a matter- and dark energy-dominated universe to replace the Hubble parameter:\n",
    "$$H(t)^2 = \\frac{\\dot{a}^2}{a^2} = H_0^2 \\left(\\frac{\\Omega_{m,0}}{a^3} + \\Omega_{\\Lambda,0}+\\frac{1-\\Omega_0}{a^2}\\right)$$\n",
    "$$r=c\\int_{a(t_e)}^{1}\\frac{da}{a^2}\\left[H_0^2 \\left(\\frac{\\Omega_{m,0}}{a^3} + \\Omega_{\\Lambda,0}+\\frac{1-\\Omega_0}{a^2}\\right)\\right]^{-\\frac{1}{2}}$$\n",
    "\n",
    "We now need to convert the integration over the scale factor into an integration over the redshift. This can be accomplished using the substitution $a = \\frac{1}{1+z}$ and $da = -\\frac{dz}{(1+z)^2}$.\n",
    "$$r=-c\\int_{z_e}^{0}\\frac{dz}{(1+z)^2}(1+z)^2\\left[H_0^2 \\left({\\Omega_{m,0}}(1+z)^3 + \\Omega_{\\Lambda,0}+\\left(1-\\Omega_0\\right)(1+z)^2\\right)\\right]^{-\\frac{1}{2}}=cH_0^{-1}\\int_0^{z_e}\\left[{\\Omega_{m,0}}(1+z)^3 + \\Omega_{\\Lambda,0}+\\left(1-\\Omega_0\\right)(1+z)^2\\right]^{-\\frac{1}{2}}dz$$\n",
    "\n",
    "In a matter- and dark energy-dominated universe, $\\Omega_0 = \\Omega_{m,0} + \\Omega_{\\Lambda,0}$. We can use this to simplify further:\n",
    "\\begin{aligned}\n",
    "r&=cH_0^{-1}\\int_0^{z_e}\\left[{\\Omega_{m,0}}(1+z)^3 + \\Omega_{\\Lambda,0}+\\left(1-\\Omega_{m,0}-\\Omega_{\\Lambda,0}\\right)(1+z)^2\\right]^{-\\frac{1}{2}}dz\\\\\n",
    "&=cH_0^{-1}\\int_0^{z_e}\\left[(1+z)^2 \\left(\\Omega_{m,0} + \\Omega_{m,0}z- \\Omega_{m,0}\\right) + \\Omega_{\\Lambda,0}+(1+z)^2 - \\Omega_{\\Lambda,0}(1+z)^2 \\right]^{-\\frac{1}{2}}dz\\\\\n",
    "&=cH_0^{-1}\\int_0^{z_e}\\left[(1+z)^2 \\left( 1+\\Omega_{m,0}z\\right) + \\Omega_{\\Lambda,0}\\left(1-1-2z-z^2\\right) \\right]^{-\\frac{1}{2}}dz\\\\\n",
    "&=cH_0^{-1}\\int_0^{z_e}\\left[(1+z)^2 \\left( 1+\\Omega_{m,0}z\\right) -z(2+z) \\Omega_{\\Lambda,0} \\right]^{-\\frac{1}{2}}dz\n",
    "\\end{aligned}\n",
    "\n",
    "We can now insert this expression into our equation for the luminosity distance.\n",
    "$$d_L = S_k(r)(1+z_e) = (1+z_e)S_k\\left(cH_0^{-1}\\int_0^{z_e}\\left[(1+z)^2 \\left( 1+\\Omega_{m,0}z\\right) -z(2+z) \\Omega_{\\Lambda,0} \\right]^{-\\frac{1}{2}}dz\\right)$$\n",
    "\n",
    "To evaluate the $S_k(r)$ function, we will need to derive an expression for the radius of curvature $R_0$. In Problem Set 6, we derived that $R_0$ satisfies the equation\n",
    "$$\\frac{\\kappa}{R_0^2} = \\frac{H_0^2}{c^2}(\\Omega_0-1)$$\n",
    "$$R_0^2 = \\frac{\\kappa c^2}{H_0^2}\\frac{1}{{\\Omega_0 - 1}}$$\n",
    "\n",
    "Notice that this expression for $R_0$ is always nonnegative because $\\Omega_0 > 1$ when $\\kappa = +1$ and $\\Omega_0 < 1$ when $\\kappa = -1$. This result can be used to rewrite the function $S_k(r)$ in the following form.\n",
    "$$S_k(r) = \\begin{cases}\n",
    "    \\frac{c}{H_0}\\frac{1}{\\sqrt{\\Omega_0 -1}}\\sin{\\left(\\frac{H_0}{c}\\sqrt{\\Omega_0 -1}r\\right)}, & \\kappa = +1\\\\\n",
    "    r, & \\kappa = 0\\\\\n",
    "    \\frac{c}{H_0}\\frac{1}{\\sqrt{1-\\Omega_0}}\\sinh{\\left(\\frac{H_0}{c}\\sqrt{1-\\Omega_0}r\\right)}, & \\kappa = -1\\\\\n",
    "\\end{cases}$$\n",
    "\n",
    "Let's now define $\\Omega_{k,0} = 1-\\Omega_0$ and $\\text{sinn}(x) = \\begin{cases} \\sin{(x)}, & \\kappa = +1\\\\ x, & \\kappa = 0\\\\ \\sinh{(x)}, & \\kappa = -1\\\\\\end{cases}$. Then our expression for $S_k(r)$ can be further simplified to\n",
    "\\begin{aligned}\n",
    "S_k(r) &= \\begin{cases}\n",
    "    \\frac{c}{H_0}\\vert\\Omega_{k,0}\\vert^{-\\frac{1}{2}}\\sin{\\left(\\frac{H_0}{c}\\vert\\Omega_{k,0}\\vert^{\\frac{1}{2}}r\\right)}, & \\kappa = +1\\\\\n",
    "    r, & \\kappa = 0\\\\\n",
    "    \\frac{c}{H_0}\\vert\\Omega_{k,0}\\vert^{-\\frac{1}{2}}\\sinh{\\left(\\frac{H_0}{c}\\vert\\Omega_{k,0}\\vert^{\\frac{1}{2}}r\\right)}, & \\kappa = -1\\\\\n",
    "\\end{cases}\\\\\n",
    "&= \\frac{c}{H_0}\\vert\\Omega_{k,0}\\vert^{-\\frac{1}{2}}\\text{sinn}{\\left(\\frac{H_0}{c}\\vert\\Omega_{k,0}\\vert^{\\frac{1}{2}}r\\right)}\n",
    "\\end{aligned}\n",
    "\n",
    "Inserting this expression into the equation for the luminosity distance, we obtain\n",
    "\\begin{aligned}\n",
    "d_L &= (1+z_e)\\frac{c}{H_0}\\vert\\Omega_{k,0}\\vert^{-\\frac{1}{2}}\\text{sinn}\\left(\\frac{H_0}{c}\\vert\\Omega_{k,0}\\vert^{\\frac{1}{2}}cH_0^{-1}\\int_0^{z_e}\\left[(1+z)^2 \\left( 1+\\Omega_{m,0}z\\right) -z(2+z) \\Omega_{\\Lambda,0} \\right]^{-\\frac{1}{2}}dz\\right)\\\\\n",
    "&=cH_0^{-1}(1+z_e)\\vert\\Omega_{k,0}\\vert^{-\\frac{1}{2}}\\text{sinn}\\left(\\vert\\Omega_{k,0}\\vert^{\\frac{1}{2}}\\int_0^{z_e}\\left[(1+z)^2 \\left( 1+\\Omega_{m,0}z\\right) -z(2+z) \\Omega_{\\Lambda,0} \\right]^{-\\frac{1}{2}}dz\\right)\n",
    "\\end{aligned}\n",
    "\n",
    "This last line is exactly Equation (2) from Riess et al. (1998), so we have just derived the equation used to fit cosmological parameters in one of the original papers on the accelerating universe! Let's now write a Python function to compute the expression on the right side of this equation."
   ]
  },
  {
   "cell_type": "code",
   "execution_count": 4,
   "id": "d3911d9c-0716-404b-8267-c820e03a0579",
   "metadata": {},
   "outputs": [],
   "source": [
    "def D_L(z, omega_m, omega_lambda, H_0):\n",
    "    omega_k = 1-omega_m-omega_lambda\n",
    "    if (omega_k == 0): # handle this case separately to avoid division by zero errors\n",
    "        def integrand(x):\n",
    "            return 1/np.sqrt((1+x)**2*(1+omega_m*x) - x*(2+x)*omega_lambda)\n",
    "        integral = integrate.quad(integrand,0,z)[0]\n",
    "        r = c*integral/H_0\n",
    "        return (1+z)*r\n",
    "        \n",
    "    prefactor = (c/H_0) * (1+z) * (1/np.sqrt(np.abs(omega_k)))\n",
    "    def integrand(x):\n",
    "        return 1/np.sqrt((1+x)**2 * (1+omega_m*x) - x * (2+x) * omega_lambda)\n",
    "    integral = integrate.quad(integrand,0,z)[0]\n",
    "    arg = np.sqrt(np.abs(omega_k)) * integral\n",
    "    sinn = np.sin(arg) if omega_k <= 0 else np.sinh(arg)\n",
    "    return prefactor * sinn"
   ]
  },
  {
   "cell_type": "code",
   "execution_count": 5,
   "id": "bdd12ff6-3a8d-4cc3-9fb1-f8d913bf7cf1",
   "metadata": {},
   "outputs": [],
   "source": [
    "def D_L_helper(redshifts, omega_m, omega_lambda, H_0):\n",
    "    return [D_L(z,omega_m,omega_lambda,H_0) for z in redshifts]"
   ]
  },
  {
   "cell_type": "markdown",
   "id": "6c7bc658",
   "metadata": {},
   "source": [
    "## Phase Space Sampling\n",
    "An alternative method for finding the best fit values of the cosmological parameters is to uniformly sample the phase space and quantify how well each combination of parameters fits the data. We will start by sampling from the following ranges for the cosmological parameters:\n",
    "$$ \\Omega_{m,0} \\in [0,1], \\quad \\Omega_{\\Lambda,0} \\in [0,1], \\quad H_0 \\in [60,80]$$\n",
    "\n",
    "To evaluate the goodness of fit for each possible combination of parameters, we will compute the chi-squared statistic, which is defined by\n",
    "$$\\chi^2 = \\sum_i \\frac{(d_{obs,i}-d_{exp,i})^2}{d_{err,i}^2}$$\n",
    "\n",
    "where the observed luminosity distances are $d_{obs,i}\\pm d_{err,i}$, the expected luminosity distances (based on our choice of cosmological parameters) are $d_{exp,i}$, and the sum is taken over all data points."
   ]
  },
  {
   "cell_type": "code",
   "execution_count": 13,
   "id": "43124323",
   "metadata": {},
   "outputs": [
    {
     "name": "stdout",
     "output_type": "stream",
     "text": [
      "Matter density:  0.21\n",
      "Dark energy density:  0.74\n",
      "Hubble constant:  76.84\n"
     ]
    }
   ],
   "source": [
    "num_points = 20\n",
    "\n",
    "omega_m_range = np.linspace(0,1,num_points)\n",
    "omega_lambda_range = np.linspace(0,1,num_points)\n",
    "H_0_range = np.linspace(60,80,num_points)\n",
    "\n",
    "omega_m_best = omega_m_range[0]\n",
    "omega_lambda_best = omega_lambda_range[0]\n",
    "H_0_best = H_0_range[0]\n",
    "expected = D_L_helper(redshift, omega_m, omega_lambda, H_0)\n",
    "chi2_best = np.sum((lum_dist - expected)**2/lum_dist_err**2)\n",
    "k_best = 0\n",
    "\n",
    "chi2_arr = np.zeros((num_points,num_points,num_points))\n",
    "\n",
    "for i in np.arange(np.size(omega_m_range)):\n",
    "    for j in np.arange(np.size(omega_lambda_range)):\n",
    "        for k in np.arange(np.size(H_0_range)):\n",
    "            omega_m = omega_m_range[i]\n",
    "            omega_lambda = omega_lambda_range[j]\n",
    "            H_0 = H_0_range[k]\n",
    "            expected = D_L_helper(redshift, omega_m, omega_lambda, H_0)\n",
    "            chi2 = np.sum((lum_dist - expected)**2/lum_dist_err**2)\n",
    "            chi2_arr[i][j][k] = chi2\n",
    "            if chi2 < chi2_best:\n",
    "                omega_m_best = omega_m\n",
    "                omega_lambda_best = omega_lambda\n",
    "                H_0_best = H_0\n",
    "                chi2_best = chi2\n",
    "                k_best = k\n",
    "                \n",
    "print(\"Matter density: \", \"{0:.2f}\".format(omega_m_best))\n",
    "print(\"Dark energy density: \", \"{0:.2f}\".format(omega_lambda_best))\n",
    "print(\"Hubble constant: \", \"{0:.2f}\".format(H_0_best))"
   ]
  },
  {
   "cell_type": "markdown",
   "id": "0303927d",
   "metadata": {},
   "source": [
    "The best-fit values of $\\Omega_{m,0}$, $\\Omega_{\\Lambda,0}$, and $H_0$ identified using phase space sampling lie within the error bars of the values calculated by fitting the model to the data directly. In addition, the plot above illustrates visually that the model produced by these best-fit parameters provides a good fit to the data.\n",
    "\n",
    "At this point, we would like to create phase space plots to demonstrate which regions of the $(\\Omega_{m,0},\\Omega_{\\Lambda,0})$ phase space are most likely to contain the true values. Since we will be visualizing these plots in 2D (taking the Hubble constant to be fixed at its best fit value), we might as well go ahead and fix $H_0$ now so that we can obtain better resolution in the other two parameters at the same computational cost."
   ]
  },
  {
   "cell_type": "code",
   "execution_count": null,
   "id": "3f1c21e3",
   "metadata": {},
   "outputs": [],
   "source": [
    "num_points = 100\n",
    "\n",
    "omega_m_range = np.linspace(0,1,num_points)\n",
    "omega_lambda_range = np.linspace(0,1,num_points)\n",
    "\n",
    "omega_m_best = omega_m_range[0]\n",
    "omega_lambda_best = omega_lambda_range[0]\n",
    "expected = D_L_helper(redshift, omega_m, omega_lambda, H_0_best)\n",
    "chi2_best = np.sum((lum_dist - expected)**2/lum_dist_err**2)\n",
    "k_best = 0\n",
    "\n",
    "chi2_arr = np.zeros((num_points,num_points))\n",
    "\n",
    "for i in np.arange(np.size(omega_m_range)):\n",
    "    for j in np.arange(np.size(omega_lambda_range)):\n",
    "            omega_m = omega_m_range[i]\n",
    "            omega_lambda = omega_lambda_range[j]\n",
    "            expected = D_L_helper(redshift, omega_m, omega_lambda, H_0_best)\n",
    "            chi2 = np.sum((lum_dist - expected)**2/lum_dist_err**2)\n",
    "            chi2_arr[i][j] = chi2\n",
    "            if chi2 < chi2_best:\n",
    "                omega_m_best = omega_m\n",
    "                omega_lambda_best = omega_lambda\n",
    "                chi2_best = chi2\n",
    "                k_best = k\n",
    "                \n",
    "print(\"Matter density: \", \"{0:.2f}\".format(omega_m_best))\n",
    "print(\"Dark energy density: \", \"{0:.2f}\".format(omega_lambda_best))\n",
    "print(\"Hubble constant: \", \"{0:.2f}\".format(H_0_best))"
   ]
  },
  {
   "cell_type": "code",
   "execution_count": null,
   "id": "b1427396-2e4a-4e1d-92b5-29d23a37983f",
   "metadata": {},
   "outputs": [],
   "source": [
    "zz = np.linspace(np.min(redshift),np.max(redshift),1000)\n",
    "plt.figure(figsize = (15,15))\n",
    "\n",
    "plt.errorbar(np.log(redshift),lum_dist,yerr=lum_dist_err,fmt='.',color='darkseagreen',label=\"Union Data\")\n",
    "plt.errorbar(np.log(zz),D_L_helper(zz, omega_m_best, omega_lambda_best, H_0_best), linewidth=3,color='midnightblue',label=\"Best Fit Model:\")\n",
    "plt.errorbar(0,0,linewidth=0,label=\"$\\Omega_{{m,0}}=$ {0:.2f}\".format(omega_m_best))\n",
    "plt.errorbar(0,0,linewidth=0,label=\"$\\Omega_{{\\Lambda,0}}=$ {0:.2f}\".format(omega_lambda_best))\n",
    "plt.errorbar(0,0,linewidth=0,label=\"$H_0=$ {0:.2f}\".format(H_0_best))\n",
    "plt.xlabel(\"$\\log(z)$\")\n",
    "plt.ylabel(\"Luminosity Distance $D_L$ (Mpc)\")\n",
    "plt.legend()\n",
    "plt.title(\"SuperNova Legacy Survey (SNLS) Data Modeled by Sampling Phase Space\");\n"
   ]
  },
  {
   "cell_type": "markdown",
   "id": "1457f6f9",
   "metadata": {},
   "source": [
    "Now that we know the $\\chi^2$ value for each point we sampled from the phase space, we can compute the reduced $\\chi^2$ value, which is given by\n",
    "$$\\tilde{\\chi}^2 = \\frac{\\chi^2}{\\nu}$$\n",
    "\n",
    "where $\\nu$ is the difference between the number of data points and the number of parameters used to fit the data. We will illustrate how the $\\tilde{\\chi}^2$ value changes across phase space using a color gradient in the plot below."
   ]
  },
  {
   "cell_type": "code",
   "execution_count": null,
   "id": "b88e1392",
   "metadata": {},
   "outputs": [],
   "source": [
    "reduced_chi2 = np.transpose(chi2_arr / (np.size(redshift) - 3))\n",
    "plt.figure(figsize = (15,15))\n",
    "\n",
    "plt.imshow(reduced_chi2,interpolation='bilinear',origin='lower',extent=(0,1,0,1))\n",
    "plt.colorbar()\n",
    "plt.plot(np.array([0,1]),1-np.array([0,1]),color='black',label='Flat Universe')\n",
    "plt.xlabel(\"$\\Omega_{m,0}$\")\n",
    "plt.ylabel(\"$\\Omega_{\\Lambda,0}$\")\n",
    "plt.title(\"Reduced $\\chi^2$ for Union Data using Best Fit $H_0$\")\n",
    "plt.plot(omega_m_best,omega_lambda_best,'o',color='royalblue',label='Best Fit Value', markersize = 20)\n",
    "plt.legend();"
   ]
  },
  {
   "cell_type": "markdown",
   "id": "b1a0bc91",
   "metadata": {},
   "source": [
    "In general, the probability distribution function (PDF) for a chi-squared value is given by\n",
    "$$p(x,k) = \\frac{1}{2^{k/2}\\Gamma\\left(\\frac{k}{2}\\right)}x^{k/2-1}e^{-\\frac{x}{2}}$$\n",
    "\n",
    "where $x$ is the chi-squared value, $k$ is the number of fit parameters, and $\\Gamma$ is the gamma function. We will evaluate the PDF for our chi-squared values using the ``scipy.stats.chi2.pdf`` function."
   ]
  },
  {
   "cell_type": "code",
   "execution_count": null,
   "id": "fbf1a80a",
   "metadata": {},
   "outputs": [],
   "source": [
    "prob = c2.pdf(np.transpose(chi2_arr),3)\n",
    "\n",
    "plt.imshow(prob,interpolation='bilinear',origin='lower',extent=(0,1,0,1))\n",
    "plt.colorbar()\n",
    "plt.plot(np.array([0,1]),1-np.array([0,1]),color='black',label='Flat Universe')\n",
    "plt.xlabel(\"$\\Omega_{m,0}$\")\n",
    "plt.ylabel(\"$\\Omega_{\\Lambda,0}$\")\n",
    "plt.title(\"PDF for Union Data using Best Fit $H_0$\")\n",
    "plt.plot(omega_m_best,omega_lambda_best,'o',color='royalblue',label='Best Fit Value')\n",
    "plt.legend();"
   ]
  },
  {
   "cell_type": "markdown",
   "id": "340f9862",
   "metadata": {},
   "source": [
    "This phase space plot has a similar shape to those in Figures 5, 7, 8, and 9 of Perlmutter et al. (1998). Because the probabilities are concentrated in the upper left quadrant, we will repeat the phase space sampling over the following smaller range to obtain better resolution:\n",
    "$$\\Omega_{m,0}\\in[0.1,0.6], \\quad \\Omega_{\\Lambda,0}\\in[0.5,1]$$"
   ]
  },
  {
   "cell_type": "code",
   "execution_count": null,
   "id": "d07259d8",
   "metadata": {},
   "outputs": [],
   "source": [
    "num_points = 100\n",
    "\n",
    "omega_m_range = np.linspace(0.1,0.6,num_points)\n",
    "omega_lambda_range = np.linspace(0.5,1,num_points)\n",
    "\n",
    "omega_m_best = omega_m_range[0]\n",
    "omega_lambda_best = omega_lambda_range[0]\n",
    "expected = D_L_helper(redshift, omega_m, omega_lambda, H_0_fit)\n",
    "chi2_best = np.sum((lum_dist - expected)**2/lum_dist_err**2)\n",
    "k_best = 0\n",
    "\n",
    "chi2_arr = np.zeros((num_points,num_points))\n",
    "\n",
    "for i in np.arange(np.size(omega_m_range)):\n",
    "    for j in np.arange(np.size(omega_lambda_range)):\n",
    "            omega_m = omega_m_range[i]\n",
    "            omega_lambda = omega_lambda_range[j]\n",
    "            expected = D_L_helper(redshift, omega_m, omega_lambda, H_0_fit)\n",
    "            chi2 = np.sum((lum_dist - expected)**2/lum_dist_err**2)\n",
    "            chi2_arr[i][j] = chi2\n",
    "            if chi2 < chi2_best:\n",
    "                omega_m_best = omega_m\n",
    "                omega_lambda_best = omega_lambda\n",
    "                chi2_best = chi2\n",
    "                k_best = k\n",
    "                \n",
    "print(\"Matter density: \", \"{0:.2f}\".format(omega_m_best))\n",
    "print(\"Dark energy density: \", \"{0:.2f}\".format(omega_lambda_best))\n",
    "print(\"Hubble constant: \", \"{0:.2f}\".format(H_0_fit))"
   ]
  },
  {
   "cell_type": "code",
   "execution_count": null,
   "id": "3c9492e4",
   "metadata": {},
   "outputs": [],
   "source": [
    "prob = c2.pdf(np.transpose(chi2_arr),3)\n",
    "\n",
    "plt.imshow(prob,interpolation='bilinear',origin='lower',extent=(0.1,0.6,0.5,1))\n",
    "plt.colorbar()\n",
    "plt.plot(np.array([0.1,0.6]),np.array([0.9,0.5]),color='black',label='Flat Universe')\n",
    "plt.xlabel(\"$\\Omega_{m,0}$\")\n",
    "plt.ylabel(\"$\\Omega_{\\Lambda,0}$\")\n",
    "plt.title(\"PDF for Union Data using Best Fit $H_0$\")\n",
    "plt.plot(omega_m_best,omega_lambda_best,'o',color='royalblue',label='Best Fit Value')\n",
    "plt.legend();"
   ]
  },
  {
   "cell_type": "markdown",
   "id": "f4d234f3",
   "metadata": {},
   "source": [
    "This plot clearly shows the shape of the probability distribution in phase space. So far, we have only evaluated the PDF at some representative points in phase space. To make the numbers more meaningful, we will rescale the probabilities such that the value on the colorbar corresponds to the probability to land in a particular region *relative to the probability of the best-fit point* (i.e., the best fit point has a scaled probability of $1$, and a point whose probability is half that of the best-fit point has a scaled probability of $0.5$)."
   ]
  },
  {
   "cell_type": "code",
   "execution_count": null,
   "id": "407dbaf1",
   "metadata": {},
   "outputs": [],
   "source": [
    "max_prob = np.max(prob)\n",
    "scaled_prob = prob/max_prob\n",
    "\n",
    "plt.imshow(scaled_prob,interpolation='bilinear',origin='lower',extent=(0.1,0.6,0.5,1))\n",
    "plt.colorbar()\n",
    "plt.plot(np.array([0.1,0.6]),np.array([0.9,0.5]),color='black',label='Flat Universe')\n",
    "plt.xlabel(\"$\\Omega_{m,0}$\")\n",
    "plt.ylabel(\"$\\Omega_{\\Lambda,0}$\")\n",
    "plt.title(\"Rescaled PDF for Union Data using Best Fit $H_0$\")\n",
    "plt.plot(omega_m_best,omega_lambda_best,'o',color='royalblue',label='Best Fit Value')\n",
    "plt.legend();"
   ]
  },
  {
   "cell_type": "markdown",
   "id": "77c4eefa",
   "metadata": {},
   "source": [
    "## Scale Factor Integration"
   ]
  },
  {
   "cell_type": "markdown",
   "id": "819cd36b",
   "metadata": {},
   "source": [
    "At this point, we have calculated the best fit values of the cosmological parameters $\\Omega_{m,0}$, $\\Omega_{\\Lambda,0}$, and $H_0$. With these parameters fixed, we can use the Friedmann equation to determine how the system will evolve in time. For an approximately flat matter- and dark energy-dominated universe, the Friedmann equation takes the following form:\n",
    "$$\\frac{\\dot{a}^2}{a^2} = H_0^2\\left[\\frac{\\Omega_{m,0}}{a^3} + \\Omega_{\\Lambda,0}\\right]$$\n",
    "$$\\frac{da}{dt} = H_0 \\sqrt{\\frac{\\Omega_{m,0}}{a} + \\Omega_{\\Lambda,0}a^2}$$\n",
    "\n",
    "To test that our integration is working, we will first consider a matter-only universe, for which the Friedmann equation can be solved by hand.\n",
    "$$\\frac{da}{dt} = H_0 \\sqrt{\\frac{\\Omega_{m,0}}{a}}$$\n",
    "$$\\sqrt{a}da = H_0\\sqrt{\\Omega_{m,0}}dt$$\n",
    "$$\\int_0^{a(t)} \\sqrt{a}da = H_0 \\sqrt{\\Omega_{m,0}}\\int_0^t dt$$\n",
    "$$\\frac{2}{3}a(t)^{\\frac{3}{2}} = H_0\\sqrt{\\Omega_{m,0}}t$$\n",
    "$$a(t) = \\left(\\frac{3}{2}H_0\\sqrt{\\Omega_{m,0}}t\\right)^{\\frac{2}{3}}$$"
   ]
  },
  {
   "cell_type": "code",
   "execution_count": null,
   "id": "da939776",
   "metadata": {},
   "outputs": [],
   "source": [
    "t_range = 0,20e9 # in units of t0\n",
    "a0 = np.array([1e-15]) # pick some small but nonzero value\n",
    "H_0_yrs = H_0_fit / 3.086e19 * 3.154e7 # convert H_0 to units of 1/years\n",
    "adot = lambda time, a: H_0_yrs * np.sqrt(omega_m_fit/a)\n",
    "rel_err_tolerance = 1e-5\n",
    "t_eval = np.linspace(0,20e9,1000)\n",
    "\n",
    "soln = integrate.solve_ivp(adot, t_range, a0, rtol=rel_err_tolerance, t_eval=t_eval)\n",
    "times = soln.t\n",
    "matter_num = soln.y[0]\n",
    "\n",
    "matter_exact = (3/2 * H_0_yrs * np.sqrt(omega_m_fit) * times)**(2/3)\n",
    "\n",
    "plt.plot(times, matter_num, label='Numerical integration',linewidth=2.5)\n",
    "plt.plot(times, matter_exact, '--', label='Exact integration',linewidth=2.5)\n",
    "plt.xlabel(\"Time (years)\")\n",
    "plt.ylabel(\"Scale factor $a(t)$\")\n",
    "plt.legend()\n",
    "plt.title(\"Matter-Dominated Universe\");"
   ]
  },
  {
   "cell_type": "markdown",
   "id": "f6c319d2",
   "metadata": {},
   "source": [
    "In the plot above, the scale factors obtained using numerical and exact integration coincide with each other, which is a sign that our numerical integrator is working well. We can perform a similar test for a single-component universe containing only dark energy. In that case, the Friedmann equation simplifies as follows.\n",
    "$$\\frac{da}{dt} = H_0\\sqrt{\\Omega_{\\Lambda,0}}a$$\n",
    "$$\\frac{1}{a}da = H_0\\sqrt{\\Omega_{\\Lambda,0}}dt$$\n",
    "$$\\int_{a(0)}^{a(t)} \\frac{1}{a}da = H_0\\sqrt{\\Omega_{\\Lambda,0}}\\int_0^tdt$$\n",
    "$$\\ln{\\left(\\frac{a(t)}{a(0)}\\right)} = H_0\\sqrt{\\Omega_{\\Lambda,0}}t$$\n",
    "$$a(t) = a(0)\\cdot e^{H_0\\sqrt{\\Omega_{\\Lambda,0}}t}$$\n",
    "\n",
    "We cannot set $a(t) = a(0)$ because then $a(t)$ would remain zero for all times. Instead, to solve for the integration constant $a(0)$ we will impose the condition $a(t_0) = 1$ where $t_0 = t_H = \\frac{1}{H_0}$. \n",
    "$$a(0) = a(t_0) e^{-H_0\\sqrt{\\Omega_{\\Lambda,0}}t_0} = e^{-\\sqrt{\\Omega_{\\Lambda,0}}}$$\n",
    "$$a(t) = e^{\\sqrt{\\Omega_{\\Lambda_0}} \\left( H_0 t - 1\\right)}$$\n",
    "\n",
    "Now let's go ahead and integrate the scale factor for a dark energy-dominated universe using both the exact solution calculated above and numerical integration."
   ]
  },
  {
   "cell_type": "code",
   "execution_count": null,
   "id": "8fe8231c",
   "metadata": {},
   "outputs": [],
   "source": [
    "t_range = 0,20e9 # in units of t0\n",
    "a0 = np.array([np.exp(-np.sqrt(omega_lambda_fit))])\n",
    "H_0_yrs = H_0_fit / 3.086e19 * 3.154e7 # convert H_0 to units of 1/years\n",
    "adot = lambda time, a: H_0_yrs * np.sqrt(omega_lambda_fit) * a\n",
    "rel_err_tolerance = 1e-5\n",
    "t_eval = np.linspace(0,20e9,1000)\n",
    "\n",
    "soln = integrate.solve_ivp(adot, t_range, a0, rtol=rel_err_tolerance, t_eval=t_eval)\n",
    "times = soln.t\n",
    "de_num = soln.y[0]\n",
    "\n",
    "de_exact = np.exp(np.sqrt(omega_lambda_fit) * (H_0_yrs * times - 1))\n",
    "\n",
    "plt.plot(times, de_num, label='Numerical integration',linewidth=2.5)\n",
    "plt.plot(times, de_exact, '--', label='Exact integration',linewidth=2.5)\n",
    "plt.xlabel(\"Time (years)\")\n",
    "plt.ylabel(\"Scale factor $a(t)$\")\n",
    "plt.legend()\n",
    "plt.title(\"Dark Energy-Dominated Universe\");"
   ]
  },
  {
   "cell_type": "markdown",
   "id": "3c272323",
   "metadata": {},
   "source": [
    "The curves for the scale factor obtained using numerical integration and exact integration coincide, which indicates that our numerical integration is working well. We are now ready to integrate the full Friedmann equation, including both matter and dark energy terms. For comparison, we will also include the scale factors for the scale factor for the matter-only universe on the same plot. However, because the dark energy-only universe uses a different constraint ($a(t_0) = 1$ rather than $a(0)=0$), we will omit the dark energy-only universe from the plot."
   ]
  },
  {
   "cell_type": "code",
   "execution_count": null,
   "id": "42df2682",
   "metadata": {},
   "outputs": [],
   "source": [
    "t_range = 0,20e9 # in units of t0\n",
    "a0 = np.array([1e-15]) # pick some small but nonzero value\n",
    "H_0_yrs = H_0_fit / 3.086e19 * 3.154e7 # convert H_0 to units of 1/years\n",
    "adot = lambda time, a: H_0_yrs * np.sqrt(omega_m_fit/a + omega_lambda_fit * a**2)\n",
    "rel_err_tolerance = 1e-5\n",
    "t_eval = np.linspace(0,20e9,1000)\n",
    "\n",
    "soln = integrate.solve_ivp(adot, t_range, a0, rtol=rel_err_tolerance, t_eval=t_eval)\n",
    "times = soln.t\n",
    "total_num = soln.y[0]\n",
    "\n",
    "plt.plot(times, total_num, label='Matter and dark energy')\n",
    "plt.plot(times, matter_exact, label='Matter only')\n",
    "#plt.plot(times, de_exact, label='Dark energy only')\n",
    "plt.xlabel(\"Time (years)\")\n",
    "plt.ylabel(\"Scale factor $a(t)$\")\n",
    "plt.title(\"Matter- and Dark Energy-Dominated Universe\")\n",
    "plt.legend();"
   ]
  },
  {
   "cell_type": "markdown",
   "id": "f9a3231d",
   "metadata": {},
   "source": [
    "Unfortunately, the Friedmann equation including both $\\Omega_{m,0}$ and $\\Omega_{\\Lambda,0}$ cannot easily be integrated by hand to check the results of the numerical integration. However, we obtained the following exact solution from Wolfram Alpha:\n",
    "$$a(t) = \\frac{\\sqrt[3]{\\Omega_{m,0}}\\tanh^{\\frac{2}{3}}{\\left(\\frac{3}{2}\\left(C\\sqrt{\\Omega_{\\Lambda,0}} + H_0\\sqrt{\\Omega_{\\Lambda,0}} t\\right)\\right)}}{\\sqrt[3]{\\Omega_{L,0} - \\Omega_{L,0}\\tanh^2{\\left(\\frac{3}{2}\\left(C\\sqrt{\\Omega_{\\Lambda,0}}+H_0\\sqrt{\\Omega_{\\Lambda,0}} t\\right)\\right)}}}$$\n",
    "\n",
    "Since the Friedmann equation is a first-order differential equation, we expect one constant of integration. This constant $C$ is fixed by the initial condition $a(0) = 0$. Observe that\n",
    "$$a(0) = \\frac{\\sqrt[3]{\\Omega_{m,0}}\\tanh^{\\frac{2}{3}}{\\left(\\frac{3}{2}C\\sqrt{\\Omega_{\\Lambda,0}} \\right)}}{\\sqrt[3]{\\Omega_{L,0} - \\Omega_{L,0}\\tanh^2{\\left(\\frac{3}{2}C\\sqrt{\\Omega_{\\Lambda,0}}\\right)}}}= 0$$\n",
    "\n",
    "The hyperbolic tangent function vanishes at $0$, so we can let $C=0$ to ensure the initial condition $a(0) = 0$ will be satisfied. Therefore, the exact solution fitted to initial conditions is\n",
    "$$a(t) = \\frac{\\sqrt[3]{\\Omega_{m,0}}\\tanh^{\\frac{2}{3}}{\\left(\\frac{3}{2} H_0\\sqrt{\\Omega_{\\Lambda,0}} t\\right)}}{\\sqrt[3]{\\Omega_{L,0} - \\Omega_{L,0}\\tanh^2{\\left(\\frac{3}{2}H_0\\sqrt{\\Omega_{\\Lambda,0}} t\\right)}}}$$\n",
    "\n",
    "Let's implement this exact solution in a function and plot it against the solution obtained using numerical integration."
   ]
  },
  {
   "cell_type": "code",
   "execution_count": null,
   "id": "de8acf25",
   "metadata": {},
   "outputs": [],
   "source": [
    "def a(t,omega_m,omega_lambda,H_0):\n",
    "    num = omega_m**(1/3) * np.tanh(3/2 * H_0 * np.sqrt(omega_lambda) * t)**(2/3)\n",
    "    den = (omega_lambda - omega_lambda * np.tanh(3/2 * H_0 * np.sqrt(omega_lambda) * t)**2)**(1/3)\n",
    "    return num/den"
   ]
  },
  {
   "cell_type": "code",
   "execution_count": null,
   "id": "0071e1e0",
   "metadata": {},
   "outputs": [],
   "source": [
    "def a_helper(times,omega_m,omega_lambda,H_0):\n",
    "    return [a(t,omega_m,omega_lambda,H_0) for t in times]"
   ]
  },
  {
   "cell_type": "code",
   "execution_count": null,
   "id": "ff7779c5",
   "metadata": {},
   "outputs": [],
   "source": [
    "total_exact = a_helper(times,omega_m_fit,omega_lambda_fit,H_0_yrs)\n",
    "\n",
    "plt.plot(times, total_num, label='Numerical integration',linewidth=2.5)\n",
    "plt.plot(times, total_exact, '--', label='Exact integration',linewidth=2.5)\n",
    "plt.xlabel(\"Time (years)\")\n",
    "plt.ylabel(\"Scale factor $a(t)$\")\n",
    "plt.title(\"Matter- and Dark Energy-Dominated Universe\")\n",
    "plt.legend();"
   ]
  },
  {
   "cell_type": "markdown",
   "id": "95faaa8f",
   "metadata": {},
   "source": [
    "This curve obtained using exact integration for the matter- and dark energy-dominated universe looks very similar to the curve obtained using numerical integration. Indeed,  when we plot the two solutions together we see that the two curves lie on top of each other. This provides confirmation that our scale factor integrator is working properly."
   ]
  },
  {
   "cell_type": "markdown",
   "id": "448fe1c9",
   "metadata": {},
   "source": [
    "Lastly, we will consider the case of an empty universe, for which the Friedman equation takes the following form.\n",
    "$$\\frac{\\dot{a}^2}{a^2} = -H_0^2 \\frac{\\Omega_0-1}{a^2} = \\frac{H_0^2}{a^2}$$\n",
    "\n",
    "From this equation, we can see that\n",
    "$$\\dot{a} = H_0$$\n",
    "$$a(t) = H_0 t + C$$\n",
    "\n",
    "where $C$ is an arbtirary integration constant. If we impose the condition $a(0) = 0$, then the integration constant must vanish and we are left with $a(t) = H_0 t$. The scale factor for an empty universe is added to the previous plot in the cell below."
   ]
  },
  {
   "cell_type": "code",
   "execution_count": null,
   "id": "305895c7",
   "metadata": {},
   "outputs": [],
   "source": [
    "empty = H_0_yrs * times\n",
    "\n",
    "plt.plot(times, total_exact,label='Matter and dark energy')\n",
    "plt.plot(times, matter_exact, label='Matter only')\n",
    "plt.plot(times, empty, label='Empty')\n",
    "plt.xlabel(\"Time (years)\")\n",
    "plt.ylabel(\"Scale factor $a(t)$\")\n",
    "plt.title(\"Matter- and Dark Energy-Dominated Universe\")\n",
    "plt.legend();"
   ]
  },
  {
   "cell_type": "markdown",
   "id": "1663e6e2",
   "metadata": {},
   "source": [
    "For these three universes, we have imposed the condition $a(0)=0$, but we have not explicitly required that $a(t_0)=1$. Instead, we can interpret the time at which $a(t)=1$ as the present age of the universe in each of the three models. The following cell computes these times."
   ]
  },
  {
   "cell_type": "code",
   "execution_count": null,
   "id": "60daf64d",
   "metadata": {},
   "outputs": [],
   "source": [
    "t0_m_index = 0\n",
    "t0_total_index = 0\n",
    "t0_empty_index = 0\n",
    "\n",
    "for i in range(len(times)):\n",
    "    if np.abs(1-matter_exact[i]) < np.abs(1-matter_exact[t0_m_index]):\n",
    "        t0_m_index = i\n",
    "    if np.abs(1-total_exact[i]) < np.abs(1-total_exact[t0_total_index]):\n",
    "        t0_total_index = i\n",
    "    if np.abs(1-empty[i]) < np.abs(1-empty[t0_empty_index]):\n",
    "        t0_empty_index = i\n",
    "        \n",
    "print(\"Present time (matter-only universe): {0:.2E}\".format(times[t0_m_index]))\n",
    "print(\"Present time (matter and dark energy universe): {0:.2E}\".format(times[t0_total_index]))\n",
    "print(\"Present time (empty universe): {0:.2E}\".format(times[t0_empty_index]))\n",
    "print(\"Hubble time (1/H_0): {0:.2E}\".format(1/H_0_yrs))"
   ]
  },
  {
   "cell_type": "markdown",
   "id": "2425d1b2",
   "metadata": {},
   "source": [
    "The results above demonstrate the age of the universe in each of the three models is close to the Hubble time $t_H = \\frac{1}{H_0}$, which is a sign that our models are working well. Note that it is unsurprising that the current age of the empty universe coincides with the Hubble time because we have defined $a(t) = H_0t$ in that universe. However, it is reassuring to see that the present ages of the universe in the other two models are near the Hubble time because it is not obvious from the equations alone that this must be the case."
   ]
  },
  {
   "cell_type": "markdown",
   "id": "2f74fcb9",
   "metadata": {},
   "source": [
    "## Discussion of Results"
   ]
  },
  {
   "cell_type": "markdown",
   "id": "1c76430e",
   "metadata": {},
   "source": [
    "In summary, we have calculated the best-fit values of $\\Omega_{m,0}$, $\\Omega_{\\Lambda,0}$, and $H_0$ in two ways: directly fitting a model to the data and sampling the phase space. Using the best-fit values of the cosmological parameters, we integrated the Friedmann equation to find the scale factor as a function of time. Our values of the cosmological parameters, along with the accepted values from the Benchmark Model, are summarized in the table below.\n",
    "\n",
    "| Source | $\\Omega_{m,0}$ | $\\Omega_{\\Lambda,0}$ | $H_0 \\text{ (km/s/Mpc)}$ |\n",
    "| --- | --- | --- | --- |\n",
    "| Direct fit (Union data) | $0.323\\pm0.069$ | $0.75\\pm0.11$ | $70.49\\pm0.43$  |\n",
    "| Phase space sampling (Union data) | $0.32$ | $0.75$ | $70.49$ |\n",
    "| Benchmark Model | $0.30$ | $0.70$ | $70$ |"
   ]
  },
  {
   "cell_type": "markdown",
   "id": "896a281f",
   "metadata": {},
   "source": [
    "Our results are close to those of the Benchmark Model, but we estimate that the dark matter density is larger than the benchmark value by about $5\\%$ and that the matter density is larger than the benchmark value by about $2\\%$. In particular, while the Benchmark Model assumes a flat universe, our estimated parameters suggest $\\Omega_0 = \\Omega_{m,0} + \\Omega_{\\Lambda,0} > 1$, which corresponds to a positively curved universe. However, these discrepancies can easily be explained by the error bars on the measurements, seeing as the error bars on $\\Omega_{m,0}$ and $\\Omega_{\\Lambda,0}$ in the direct fit approach were around $0.07$ and $0.1$, respectively. (We did not cite exact error bars for the other two sources because the phase space sampling method did not provide error bars and Ryden does not list error bars for the Benchmark Model, but we anticipate the errors on the phase space sampling method would be similar to those on the direct fit method.) Interestingly, the Hubble constant we calculated, $H_0 = 70.49\\pm0.43\\text{ km/s/Mpc}$, falls in between the values obtained using CMB and more recent supernovae data (Kamionkowski 2023): \n",
    "$$H_{0,\\text{CMB}} = 67.4\\pm 0.5\\text{ km/s/Mpc}, \\quad H_{0,\\text{SNe}} = 73.0\\pm1.0\\text{ km/s/Mpc}$$\n",
    "\n",
    "At first this result might seem surprising because our calculation was also based on supernovae, but our $H_0$ value is not implausible because measurements of the Hubble constant have changed over time and as observational techniques improve. For our project website, we will run the same cosmological parameters calculations on multiple datasets to illustrate how the best-fit values of the cosmological parameters differ in different datasets and how our understanding of the parameters has evolved as new datasets become available."
   ]
  },
  {
   "cell_type": "markdown",
   "id": "6f123511-8f6c-41a0-b38a-f7536a37e6d7",
   "metadata": {},
   "source": [
    "## References\n",
    "\n",
    "Kamionkowski, M., and A. G. Riess. 2023, Annual Reviews, 73, 153.\n",
    "\n",
    "Ryden, B. Introduction to Cosmology. Addison Wesley, 2003.\n",
    "\n",
    "Riess, A. G., et al. 1998, AJ, 116, 1009.\n",
    "\n",
    "Perlmutter, S., et al. 1999, ApJ, 517, 565.\n",
    "\n",
    "UCB Physics Dept. *Intro to Numerics* notebook, 2019, https://github.com/berkeley-physics/intro_python?tab=readme-ov-file.\n",
    "\n",
    "Wikipedia. *Chi-squared distribution*, 2024, https://en.wikipedia.org/wiki/Chi-squared_distribution."
   ]
  }
 ],
 "metadata": {
  "kernelspec": {
   "display_name": "Python 3",
   "language": "python",
   "name": "python3"
  },
  "language_info": {
   "codemirror_mode": {
    "name": "ipython",
    "version": 3
   },
   "file_extension": ".py",
   "mimetype": "text/x-python",
   "name": "python",
   "nbconvert_exporter": "python",
   "pygments_lexer": "ipython3",
   "version": "3.8.8"
  }
 },
 "nbformat": 4,
 "nbformat_minor": 5
}
